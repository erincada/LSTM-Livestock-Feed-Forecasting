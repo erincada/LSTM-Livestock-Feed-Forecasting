{
 "cells": [
  {
   "cell_type": "code",
   "execution_count": 1,
   "metadata": {},
   "outputs": [
    {
     "data": {
      "text/plain": [
       "ERROR: Failed to launch TensorBoard (exited with 1).\n",
       "Contents of stderr:\n",
       "2024-12-11 22:09:13.373814: I tensorflow/core/util/port.cc:153] oneDNN custom operations are on. You may see slightly different numerical results due to floating-point round-off errors from different computation orders. To turn them off, set the environment variable `TF_ENABLE_ONEDNN_OPTS=0`.\n",
       "2024-12-11 22:09:13.417365: E external/local_xla/xla/stream_executor/cuda/cuda_fft.cc:485] Unable to register cuFFT factory: Attempting to register factory for plugin cuFFT when one has already been registered\n",
       "2024-12-11 22:09:13.470962: E external/local_xla/xla/stream_executor/cuda/cuda_dnn.cc:8454] Unable to register cuDNN factory: Attempting to register factory for plugin cuDNN when one has already been registered\n",
       "2024-12-11 22:09:13.484442: E external/local_xla/xla/stream_executor/cuda/cuda_blas.cc:1452] Unable to register cuBLAS factory: Attempting to register factory for plugin cuBLAS when one has already been registered\n",
       "2024-12-11 22:09:13.513586: I tensorflow/core/platform/cpu_feature_guard.cc:210] This TensorFlow binary is optimized to use available CPU instructions in performance-critical operations.\n",
       "To enable the following instructions: AVX2 AVX512F AVX512_VNNI FMA, in other operations, rebuild TensorFlow with the appropriate compiler flags.\n",
       "2024-12-11 22:09:14.813449: W tensorflow/compiler/tf2tensorrt/utils/py_utils.cc:38] TF-TRT Warning: Could not find TensorRT\n",
       "WARNING: All log messages before absl::InitializeLog() is called are written to STDERR\n",
       "I0000 00:00:1733944159.739467  109812 cuda_executor.cc:1001] could not open file to read NUMA node: /sys/bus/pci/devices/0000:01:00.0/numa_node\n",
       "Your kernel may have been built without NUMA support.\n",
       "2024-12-11 22:09:19.868669: W tensorflow/core/common_runtime/gpu/gpu_device.cc:2343] Cannot dlopen some GPU libraries. Please make sure the missing libraries mentioned above are installed properly if you would like to use GPU. Follow the guide at https://www.tensorflow.org/install/gpu for how to download and setup the required libraries for your platform.\n",
       "Skipping registering GPU devices...\n",
       "\n",
       "NOTE: Using experimental fast data loading logic. To disable, pass\n",
       "    \"--load_fast=false\" and report issues on GitHub. More details:\n",
       "    https://github.com/tensorflow/tensorboard/issues/4784\n",
       "\n",
       "Traceback (most recent call last):\n",
       "  File \"/home/erincada/.local/bin/tensorboard\", line 8, in <module>\n",
       "    sys.exit(run_main())\n",
       "  File \"/home/erincada/.local/lib/python3.10/site-packages/tensorboard/main.py\", line 41, in run_main\n",
       "    app.run(tensorboard.main, flags_parser=tensorboard.configure)\n",
       "  File \"/home/erincada/.local/lib/python3.10/site-packages/absl/app.py\", line 308, in run\n",
       "    _run_main(main, args)\n",
       "  File \"/home/erincada/.local/lib/python3.10/site-packages/absl/app.py\", line 254, in _run_main\n",
       "    sys.exit(main(argv))\n",
       "  File \"/home/erincada/.local/lib/python3.10/site-packages/tensorboard/program.py\", line 278, in main\n",
       "    return runner(self.flags) or 0\n",
       "  File \"/home/erincada/.local/lib/python3.10/site-packages/tensorboard/program.py\", line 294, in _run_serve_subcommand\n",
       "    server = self._make_server()\n",
       "  File \"/home/erincada/.local/lib/python3.10/site-packages/tensorboard/program.py\", line 469, in _make_server\n",
       "    app = application.TensorBoardWSGIApp(\n",
       "  File \"/home/erincada/.local/lib/python3.10/site-packages/tensorboard/backend/application.py\", line 139, in TensorBoardWSGIApp\n",
       "    return TensorBoardWSGI(\n",
       "  File \"/home/erincada/.local/lib/python3.10/site-packages/tensorboard/backend/application.py\", line 252, in __init__\n",
       "    raise ValueError(\n",
       "ValueError: Duplicate plugins for name projector"
      ]
     },
     "metadata": {},
     "output_type": "display_data"
    },
    {
     "name": "stderr",
     "output_type": "stream",
     "text": [
      "2024-12-11 22:09:22.339489: I tensorflow/core/util/port.cc:153] oneDNN custom operations are on. You may see slightly different numerical results due to floating-point round-off errors from different computation orders. To turn them off, set the environment variable `TF_ENABLE_ONEDNN_OPTS=0`.\n",
      "2024-12-11 22:09:22.354459: E external/local_xla/xla/stream_executor/cuda/cuda_fft.cc:485] Unable to register cuFFT factory: Attempting to register factory for plugin cuFFT when one has already been registered\n",
      "2024-12-11 22:09:22.374115: E external/local_xla/xla/stream_executor/cuda/cuda_dnn.cc:8454] Unable to register cuDNN factory: Attempting to register factory for plugin cuDNN when one has already been registered\n",
      "2024-12-11 22:09:22.378784: E external/local_xla/xla/stream_executor/cuda/cuda_blas.cc:1452] Unable to register cuBLAS factory: Attempting to register factory for plugin cuBLAS when one has already been registered\n",
      "2024-12-11 22:09:22.390146: I tensorflow/core/platform/cpu_feature_guard.cc:210] This TensorFlow binary is optimized to use available CPU instructions in performance-critical operations.\n",
      "To enable the following instructions: AVX2 AVX512F AVX512_VNNI FMA, in other operations, rebuild TensorFlow with the appropriate compiler flags.\n",
      "2024-12-11 22:09:23.931987: W tensorflow/compiler/tf2tensorrt/utils/py_utils.cc:38] TF-TRT Warning: Could not find TensorRT\n"
     ]
    },
    {
     "name": "stdout",
     "output_type": "stream",
     "text": [
      "TensorFlow version: 2.17.0\n",
      "Available GPUs: []\n"
     ]
    },
    {
     "name": "stderr",
     "output_type": "stream",
     "text": [
      "WARNING: All log messages before absl::InitializeLog() is called are written to STDERR\n",
      "I0000 00:00:1733944166.372323  109701 cuda_executor.cc:1001] could not open file to read NUMA node: /sys/bus/pci/devices/0000:01:00.0/numa_node\n",
      "Your kernel may have been built without NUMA support.\n",
      "2024-12-11 22:09:26.433340: W tensorflow/core/common_runtime/gpu/gpu_device.cc:2343] Cannot dlopen some GPU libraries. Please make sure the missing libraries mentioned above are installed properly if you would like to use GPU. Follow the guide at https://www.tensorflow.org/install/gpu for how to download and setup the required libraries for your platform.\n",
      "Skipping registering GPU devices...\n"
     ]
    }
   ],
   "source": [
    "import os\n",
    "import shutil\n",
    "\n",
    "log_dir = \"logs/hparam_tuning\"\n",
    "if os.path.exists(log_dir):\n",
    "    shutil.rmtree(log_dir)\n",
    "\n",
    "os.makedirs(log_dir, exist_ok=True)\n",
    "\n",
    "%load_ext tensorboard\n",
    "%tensorboard --logdir logs/hparam_tuning\n",
    "\n",
    "import tensorflow as tf\n",
    "from tensorboard.plugins.hparams import api as hp\n",
    "import pandas as pd\n",
    "import numpy as np\n",
    "from tensorflow.keras.models import Sequential\n",
    "from tensorflow.keras.layers import LSTM, Dense, InputLayer, Dropout, BatchNormalization\n",
    "from tensorflow.keras.callbacks import EarlyStopping, ReduceLROnPlateau\n",
    "from tensorflow.keras.metrics import RootMeanSquaredError\n",
    "from tensorflow.keras.optimizers import Adam, SGD\n",
    "from tensorflow.keras.regularizers import l2\n",
    "import matplotlib.pyplot as plt\n",
    "import seaborn as sns\n",
    "from sklearn.preprocessing import MinMaxScaler\n",
    "\n",
    "print(\"TensorFlow version:\", tf.__version__)\n",
    "\n",
    "physical_devices = tf.config.list_physical_devices('GPU')\n",
    "print(\"Available GPUs:\", physical_devices)\n",
    "\n",
    "gpus = tf.config.experimental.list_physical_devices('GPU')\n",
    "if gpus:\n",
    "    try:\n",
    "        for gpu in gpus:\n",
    "            tf.config.experimental.set_memory_growth(gpu, True)\n",
    "        print(f\"{len(gpus)} GPU(s) are available for use.\")\n",
    "    except RuntimeError as e:\n",
    "        print(e)\n",
    "\n"
   ]
  },
  {
   "cell_type": "code",
   "execution_count": null,
   "metadata": {},
   "outputs": [
    {
     "name": "stdout",
     "output_type": "stream",
     "text": [
      "      SAMAN      ARPA      SLAJ       YEM        SU\n",
      "0  1.623454  2.272836  2.516354  6.818507  1.298763\n",
      "1  1.543873  2.161422  2.393003  6.484267  1.235098\n",
      "2  1.378363  2.297272  2.909877  6.126058  1.225212\n",
      "3  1.378363  2.297272  2.909877  6.126058  1.225212\n",
      "4  1.378363  2.297272  2.909877  6.126058  1.225212\n"
     ]
    }
   ],
   "source": [
    "data = pd.read_csv(\"consecutive_feed.csv\", delimiter=',')\n",
    "df = data[[\"SAMAN\", \"ARPA\", \"SLAJ\", \"YEM\", \"SU\"]]\n",
    "print(df.head())\n",
    "\n",
    "df['SAMAN_derivative'] = np.gradient(df['SAMAN'])\n",
    "df['ARPA_derivative'] = np.gradient(df['ARPA'])\n",
    "df['SLAJ_derivative'] = np.gradient(df['SLAJ'])\n",
    "df['YEM_derivative'] = np.gradient(df['YEM'])\n",
    "df['SU_derivative'] = np.gradient(df['SU'])\n",
    "\n"
   ]
  },
  {
   "cell_type": "code",
   "execution_count": 3,
   "metadata": {},
   "outputs": [],
   "source": [
    "from tensorboard.plugins.hparams import api as hp\n",
    "\n",
    "HP_WINDOW_SIZE = hp.HParam('window_size', hp.Discrete([3, 5]))\n",
    "HP_DROPOUT = hp.HParam('dropout', hp.Discrete([0.1, 0.3]))\n",
    "HP_L2 = hp.HParam('l2', hp.Discrete([0.0001, 0.001]))\n",
    "HP_OPTIMIZER = hp.HParam('optimizer', hp.Discrete(['adam', 'sgd']))\n",
    "HP_LEARNING_RATE = hp.HParam('learning_rate', hp.Discrete([0.001, 0.005]))\n",
    "HP_BATCH_SIZE = hp.HParam('batch_size', hp.Discrete([32, 64]))\n",
    "\n",
    "METRIC_RMSE = 'rmse'\n",
    "\n",
    "with tf.summary.create_file_writer('logs/hparam_tuning').as_default():\n",
    "    hp.hparams_config(\n",
    "        hparams=[\n",
    "            HP_WINDOW_SIZE, HP_DROPOUT, HP_L2, HP_OPTIMIZER, HP_LEARNING_RATE, HP_BATCH_SIZE\n",
    "        ],\n",
    "        metrics=[hp.Metric(METRIC_RMSE, display_name='RMSE')],\n",
    "    )\n",
    "\n"
   ]
  },
  {
   "cell_type": "code",
   "execution_count": 4,
   "metadata": {},
   "outputs": [],
   "source": [
    "def df_to_X_y(df, var_to_guess_1, var_to_guess_2, WINDOW_SIZE):\n",
    "    df_as_np = df.to_numpy()\n",
    "    X = []\n",
    "    y = []\n",
    "\n",
    "    var_to_guess_1_index = df.columns.get_loc(var_to_guess_1)\n",
    "    var_to_guess_2_index = df.columns.get_loc(var_to_guess_2)\n",
    "\n",
    "    for i in range(len(df) - WINDOW_SIZE):\n",
    "        X.append(df_as_np[i:i+WINDOW_SIZE, :])\n",
    "        var_1_value = df_as_np[i+WINDOW_SIZE, var_to_guess_1_index]\n",
    "        var_2_value = df_as_np[i+WINDOW_SIZE, var_to_guess_2_index]\n",
    "        y.append([var_1_value, var_2_value])\n",
    "    return np.array(X), np.array(y)\n",
    "\n",
    "def prepare_data(df, var_to_guess_1, var_to_guess_2, WINDOW_SIZE):\n",
    "\n",
    "    split_1 = int(0.8 * len(df))\n",
    "    split_2 = int(0.9 * len(df))\n",
    "    df_train = df[:split_1]\n",
    "    df_val = df[split_1:split_2]\n",
    "    df_test = df[split_2:]\n",
    "\n",
    "    scalers = {}\n",
    "    scaled_train = pd.DataFrame()\n",
    "    scaled_val = pd.DataFrame()\n",
    "    scaled_test = pd.DataFrame()\n",
    "\n",
    "    for column in df.columns:\n",
    "        scaler = MinMaxScaler(feature_range=(0, 1))\n",
    "        scaled_train[column] = scaler.fit_transform(df_train[[column]]).ravel()\n",
    "        scaled_val[column] = scaler.transform(df_val[[column]]).ravel()\n",
    "        scaled_test[column] = scaler.transform(df_test[[column]]).ravel()\n",
    "        scalers[column] = scaler\n",
    "\n",
    "    X_train, y_train = df_to_X_y(scaled_train, var_to_guess_1, var_to_guess_2, WINDOW_SIZE)\n",
    "    X_val, y_val = df_to_X_y(scaled_val, var_to_guess_1, var_to_guess_2, WINDOW_SIZE)\n",
    "    X_test, y_test = df_to_X_y(scaled_test, var_to_guess_1, var_to_guess_2, WINDOW_SIZE)\n",
    "\n",
    "    return X_train, y_train, X_val, y_val, X_test, y_test\n",
    "\n",
    "def train_test_model(hparams, run_name):\n",
    "    var_to_guess_1 = \"YEM\"\n",
    "    var_to_guess_2 = \"SLAJ\"\n",
    "\n",
    "    WINDOW_SIZE = hparams[HP_WINDOW_SIZE]\n",
    "    X_train, y_train, X_val, y_val, X_test, y_test = prepare_data(df, var_to_guess_1, var_to_guess_2, WINDOW_SIZE)\n",
    "\n",
    "    model = Sequential()\n",
    "    model.add(InputLayer(input_shape=(WINDOW_SIZE, X_train.shape[2])))\n",
    "    model.add(LSTM(64, return_sequences=True, kernel_regularizer=l2(hparams[HP_L2])))\n",
    "    model.add(Dropout(hparams[HP_DROPOUT]))\n",
    "    model.add(LSTM(32, kernel_regularizer=l2(hparams[HP_L2])))\n",
    "    model.add(BatchNormalization())\n",
    "    model.add(Dropout(hparams[HP_DROPOUT]))\n",
    "    model.add(Dense(16, activation='relu', kernel_regularizer=l2(hparams[HP_L2])))\n",
    "    model.add(Dense(2, activation='linear'))\n",
    "\n",
    "    if hparams[HP_OPTIMIZER] == 'adam':\n",
    "        optimizer = Adam(learning_rate=hparams[HP_LEARNING_RATE])\n",
    "    elif hparams[HP_OPTIMIZER] == 'sgd':\n",
    "        optimizer = SGD(learning_rate=hparams[HP_LEARNING_RATE])\n",
    "\n",
    "    model.compile(loss='huber', optimizer=optimizer, metrics=[RootMeanSquaredError()])\n",
    "\n",
    "\n",
    "    tensorboard_callback = tf.keras.callbacks.TensorBoard(\n",
    "        log_dir=os.path.join(log_dir, run_name), \n",
    "        histogram_freq=1\n",
    "    )\n",
    "\n",
    "\n",
    "    reduce_lr = ReduceLROnPlateau(monitor='val_loss', factor=0.25, patience=5, min_lr=1e-7, verbose=0)\n",
    "    early_stopping = EarlyStopping(monitor='val_loss', patience=10, restore_best_weights=True, verbose=0)\n",
    "\n",
    "\n",
    "    history = model.fit(\n",
    "        X_train, y_train,\n",
    "        validation_data=(X_val, y_val),\n",
    "        epochs=50,\n",
    "        batch_size=hparams[HP_BATCH_SIZE],\n",
    "        callbacks=[reduce_lr, early_stopping, tensorboard_callback],  \n",
    "        verbose=0\n",
    "    )\n",
    "\n",
    "\n",
    "    test_loss, test_rmse = model.evaluate(X_test, y_test, verbose=0)\n",
    "    return test_rmse\n",
    "\n",
    "\n",
    "def run(run_dir, hparams, run_name):\n",
    "    with tf.summary.create_file_writer(run_dir).as_default():\n",
    "        hp.hparams(hparams)  \n",
    "        test_rmse = train_test_model(hparams, run_name)\n",
    "        tf.summary.scalar(METRIC_RMSE, test_rmse, step=1)\n",
    "\n",
    "\n"
   ]
  },
  {
   "cell_type": "code",
   "execution_count": null,
   "metadata": {},
   "outputs": [
    {
     "name": "stdout",
     "output_type": "stream",
     "text": [
      "--- Starting trial: run-0\n",
      "{'window_size': 3, 'dropout': 0.1, 'l2': 0.0001, 'optimizer': 'adam', 'learning_rate': 0.001, 'batch_size': 32}\n"
     ]
    },
    {
     "name": "stderr",
     "output_type": "stream",
     "text": [
      "/home/erincada/.local/lib/python3.10/site-packages/keras/src/layers/core/input_layer.py:26: UserWarning: Argument `input_shape` is deprecated. Use `shape` instead.\n",
      "  warnings.warn(\n"
     ]
    },
    {
     "name": "stdout",
     "output_type": "stream",
     "text": [
      "--- Starting trial: run-1\n",
      "{'window_size': 3, 'dropout': 0.1, 'l2': 0.0001, 'optimizer': 'adam', 'learning_rate': 0.001, 'batch_size': 64}\n"
     ]
    },
    {
     "name": "stderr",
     "output_type": "stream",
     "text": [
      "/home/erincada/.local/lib/python3.10/site-packages/keras/src/layers/core/input_layer.py:26: UserWarning: Argument `input_shape` is deprecated. Use `shape` instead.\n",
      "  warnings.warn(\n"
     ]
    },
    {
     "name": "stdout",
     "output_type": "stream",
     "text": [
      "--- Starting trial: run-2\n",
      "{'window_size': 3, 'dropout': 0.1, 'l2': 0.0001, 'optimizer': 'adam', 'learning_rate': 0.005, 'batch_size': 32}\n"
     ]
    },
    {
     "name": "stderr",
     "output_type": "stream",
     "text": [
      "/home/erincada/.local/lib/python3.10/site-packages/keras/src/layers/core/input_layer.py:26: UserWarning: Argument `input_shape` is deprecated. Use `shape` instead.\n",
      "  warnings.warn(\n"
     ]
    },
    {
     "name": "stdout",
     "output_type": "stream",
     "text": [
      "--- Starting trial: run-3\n",
      "{'window_size': 3, 'dropout': 0.1, 'l2': 0.0001, 'optimizer': 'adam', 'learning_rate': 0.005, 'batch_size': 64}\n"
     ]
    },
    {
     "name": "stderr",
     "output_type": "stream",
     "text": [
      "/home/erincada/.local/lib/python3.10/site-packages/keras/src/layers/core/input_layer.py:26: UserWarning: Argument `input_shape` is deprecated. Use `shape` instead.\n",
      "  warnings.warn(\n"
     ]
    },
    {
     "name": "stdout",
     "output_type": "stream",
     "text": [
      "--- Starting trial: run-4\n",
      "{'window_size': 3, 'dropout': 0.1, 'l2': 0.0001, 'optimizer': 'sgd', 'learning_rate': 0.001, 'batch_size': 32}\n"
     ]
    },
    {
     "name": "stderr",
     "output_type": "stream",
     "text": [
      "/home/erincada/.local/lib/python3.10/site-packages/keras/src/layers/core/input_layer.py:26: UserWarning: Argument `input_shape` is deprecated. Use `shape` instead.\n",
      "  warnings.warn(\n"
     ]
    },
    {
     "name": "stdout",
     "output_type": "stream",
     "text": [
      "--- Starting trial: run-5\n",
      "{'window_size': 3, 'dropout': 0.1, 'l2': 0.0001, 'optimizer': 'sgd', 'learning_rate': 0.001, 'batch_size': 64}\n"
     ]
    },
    {
     "name": "stderr",
     "output_type": "stream",
     "text": [
      "/home/erincada/.local/lib/python3.10/site-packages/keras/src/layers/core/input_layer.py:26: UserWarning: Argument `input_shape` is deprecated. Use `shape` instead.\n",
      "  warnings.warn(\n"
     ]
    },
    {
     "name": "stdout",
     "output_type": "stream",
     "text": [
      "--- Starting trial: run-6\n",
      "{'window_size': 3, 'dropout': 0.1, 'l2': 0.0001, 'optimizer': 'sgd', 'learning_rate': 0.005, 'batch_size': 32}\n"
     ]
    },
    {
     "name": "stderr",
     "output_type": "stream",
     "text": [
      "/home/erincada/.local/lib/python3.10/site-packages/keras/src/layers/core/input_layer.py:26: UserWarning: Argument `input_shape` is deprecated. Use `shape` instead.\n",
      "  warnings.warn(\n"
     ]
    },
    {
     "name": "stdout",
     "output_type": "stream",
     "text": [
      "--- Starting trial: run-7\n",
      "{'window_size': 3, 'dropout': 0.1, 'l2': 0.0001, 'optimizer': 'sgd', 'learning_rate': 0.005, 'batch_size': 64}\n"
     ]
    },
    {
     "name": "stderr",
     "output_type": "stream",
     "text": [
      "/home/erincada/.local/lib/python3.10/site-packages/keras/src/layers/core/input_layer.py:26: UserWarning: Argument `input_shape` is deprecated. Use `shape` instead.\n",
      "  warnings.warn(\n"
     ]
    },
    {
     "name": "stdout",
     "output_type": "stream",
     "text": [
      "--- Starting trial: run-8\n",
      "{'window_size': 3, 'dropout': 0.1, 'l2': 0.001, 'optimizer': 'adam', 'learning_rate': 0.001, 'batch_size': 32}\n"
     ]
    },
    {
     "name": "stderr",
     "output_type": "stream",
     "text": [
      "/home/erincada/.local/lib/python3.10/site-packages/keras/src/layers/core/input_layer.py:26: UserWarning: Argument `input_shape` is deprecated. Use `shape` instead.\n",
      "  warnings.warn(\n"
     ]
    },
    {
     "name": "stdout",
     "output_type": "stream",
     "text": [
      "--- Starting trial: run-9\n",
      "{'window_size': 3, 'dropout': 0.1, 'l2': 0.001, 'optimizer': 'adam', 'learning_rate': 0.001, 'batch_size': 64}\n"
     ]
    },
    {
     "name": "stderr",
     "output_type": "stream",
     "text": [
      "/home/erincada/.local/lib/python3.10/site-packages/keras/src/layers/core/input_layer.py:26: UserWarning: Argument `input_shape` is deprecated. Use `shape` instead.\n",
      "  warnings.warn(\n"
     ]
    },
    {
     "name": "stdout",
     "output_type": "stream",
     "text": [
      "--- Starting trial: run-10\n",
      "{'window_size': 3, 'dropout': 0.1, 'l2': 0.001, 'optimizer': 'adam', 'learning_rate': 0.005, 'batch_size': 32}\n"
     ]
    },
    {
     "name": "stderr",
     "output_type": "stream",
     "text": [
      "/home/erincada/.local/lib/python3.10/site-packages/keras/src/layers/core/input_layer.py:26: UserWarning: Argument `input_shape` is deprecated. Use `shape` instead.\n",
      "  warnings.warn(\n"
     ]
    },
    {
     "name": "stdout",
     "output_type": "stream",
     "text": [
      "--- Starting trial: run-11\n",
      "{'window_size': 3, 'dropout': 0.1, 'l2': 0.001, 'optimizer': 'adam', 'learning_rate': 0.005, 'batch_size': 64}\n"
     ]
    },
    {
     "name": "stderr",
     "output_type": "stream",
     "text": [
      "/home/erincada/.local/lib/python3.10/site-packages/keras/src/layers/core/input_layer.py:26: UserWarning: Argument `input_shape` is deprecated. Use `shape` instead.\n",
      "  warnings.warn(\n"
     ]
    },
    {
     "name": "stdout",
     "output_type": "stream",
     "text": [
      "--- Starting trial: run-12\n",
      "{'window_size': 3, 'dropout': 0.1, 'l2': 0.001, 'optimizer': 'sgd', 'learning_rate': 0.001, 'batch_size': 32}\n"
     ]
    },
    {
     "name": "stderr",
     "output_type": "stream",
     "text": [
      "/home/erincada/.local/lib/python3.10/site-packages/keras/src/layers/core/input_layer.py:26: UserWarning: Argument `input_shape` is deprecated. Use `shape` instead.\n",
      "  warnings.warn(\n"
     ]
    },
    {
     "name": "stdout",
     "output_type": "stream",
     "text": [
      "--- Starting trial: run-13\n",
      "{'window_size': 3, 'dropout': 0.1, 'l2': 0.001, 'optimizer': 'sgd', 'learning_rate': 0.001, 'batch_size': 64}\n"
     ]
    },
    {
     "name": "stderr",
     "output_type": "stream",
     "text": [
      "/home/erincada/.local/lib/python3.10/site-packages/keras/src/layers/core/input_layer.py:26: UserWarning: Argument `input_shape` is deprecated. Use `shape` instead.\n",
      "  warnings.warn(\n"
     ]
    },
    {
     "name": "stdout",
     "output_type": "stream",
     "text": [
      "--- Starting trial: run-14\n",
      "{'window_size': 3, 'dropout': 0.1, 'l2': 0.001, 'optimizer': 'sgd', 'learning_rate': 0.005, 'batch_size': 32}\n"
     ]
    },
    {
     "name": "stderr",
     "output_type": "stream",
     "text": [
      "/home/erincada/.local/lib/python3.10/site-packages/keras/src/layers/core/input_layer.py:26: UserWarning: Argument `input_shape` is deprecated. Use `shape` instead.\n",
      "  warnings.warn(\n"
     ]
    },
    {
     "name": "stdout",
     "output_type": "stream",
     "text": [
      "--- Starting trial: run-15\n",
      "{'window_size': 3, 'dropout': 0.1, 'l2': 0.001, 'optimizer': 'sgd', 'learning_rate': 0.005, 'batch_size': 64}\n"
     ]
    },
    {
     "name": "stderr",
     "output_type": "stream",
     "text": [
      "/home/erincada/.local/lib/python3.10/site-packages/keras/src/layers/core/input_layer.py:26: UserWarning: Argument `input_shape` is deprecated. Use `shape` instead.\n",
      "  warnings.warn(\n"
     ]
    },
    {
     "name": "stdout",
     "output_type": "stream",
     "text": [
      "--- Starting trial: run-16\n",
      "{'window_size': 3, 'dropout': 0.3, 'l2': 0.0001, 'optimizer': 'adam', 'learning_rate': 0.001, 'batch_size': 32}\n"
     ]
    },
    {
     "name": "stderr",
     "output_type": "stream",
     "text": [
      "/home/erincada/.local/lib/python3.10/site-packages/keras/src/layers/core/input_layer.py:26: UserWarning: Argument `input_shape` is deprecated. Use `shape` instead.\n",
      "  warnings.warn(\n"
     ]
    },
    {
     "name": "stdout",
     "output_type": "stream",
     "text": [
      "--- Starting trial: run-17\n",
      "{'window_size': 3, 'dropout': 0.3, 'l2': 0.0001, 'optimizer': 'adam', 'learning_rate': 0.001, 'batch_size': 64}\n"
     ]
    },
    {
     "name": "stderr",
     "output_type": "stream",
     "text": [
      "/home/erincada/.local/lib/python3.10/site-packages/keras/src/layers/core/input_layer.py:26: UserWarning: Argument `input_shape` is deprecated. Use `shape` instead.\n",
      "  warnings.warn(\n"
     ]
    },
    {
     "name": "stdout",
     "output_type": "stream",
     "text": [
      "--- Starting trial: run-18\n",
      "{'window_size': 3, 'dropout': 0.3, 'l2': 0.0001, 'optimizer': 'adam', 'learning_rate': 0.005, 'batch_size': 32}\n"
     ]
    },
    {
     "name": "stderr",
     "output_type": "stream",
     "text": [
      "/home/erincada/.local/lib/python3.10/site-packages/keras/src/layers/core/input_layer.py:26: UserWarning: Argument `input_shape` is deprecated. Use `shape` instead.\n",
      "  warnings.warn(\n"
     ]
    },
    {
     "name": "stdout",
     "output_type": "stream",
     "text": [
      "--- Starting trial: run-19\n",
      "{'window_size': 3, 'dropout': 0.3, 'l2': 0.0001, 'optimizer': 'adam', 'learning_rate': 0.005, 'batch_size': 64}\n"
     ]
    },
    {
     "name": "stderr",
     "output_type": "stream",
     "text": [
      "/home/erincada/.local/lib/python3.10/site-packages/keras/src/layers/core/input_layer.py:26: UserWarning: Argument `input_shape` is deprecated. Use `shape` instead.\n",
      "  warnings.warn(\n"
     ]
    },
    {
     "name": "stdout",
     "output_type": "stream",
     "text": [
      "--- Starting trial: run-20\n",
      "{'window_size': 3, 'dropout': 0.3, 'l2': 0.0001, 'optimizer': 'sgd', 'learning_rate': 0.001, 'batch_size': 32}\n"
     ]
    },
    {
     "name": "stderr",
     "output_type": "stream",
     "text": [
      "/home/erincada/.local/lib/python3.10/site-packages/keras/src/layers/core/input_layer.py:26: UserWarning: Argument `input_shape` is deprecated. Use `shape` instead.\n",
      "  warnings.warn(\n"
     ]
    },
    {
     "name": "stdout",
     "output_type": "stream",
     "text": [
      "--- Starting trial: run-21\n",
      "{'window_size': 3, 'dropout': 0.3, 'l2': 0.0001, 'optimizer': 'sgd', 'learning_rate': 0.001, 'batch_size': 64}\n"
     ]
    },
    {
     "name": "stderr",
     "output_type": "stream",
     "text": [
      "/home/erincada/.local/lib/python3.10/site-packages/keras/src/layers/core/input_layer.py:26: UserWarning: Argument `input_shape` is deprecated. Use `shape` instead.\n",
      "  warnings.warn(\n"
     ]
    },
    {
     "name": "stdout",
     "output_type": "stream",
     "text": [
      "--- Starting trial: run-22\n",
      "{'window_size': 3, 'dropout': 0.3, 'l2': 0.0001, 'optimizer': 'sgd', 'learning_rate': 0.005, 'batch_size': 32}\n"
     ]
    },
    {
     "name": "stderr",
     "output_type": "stream",
     "text": [
      "/home/erincada/.local/lib/python3.10/site-packages/keras/src/layers/core/input_layer.py:26: UserWarning: Argument `input_shape` is deprecated. Use `shape` instead.\n",
      "  warnings.warn(\n"
     ]
    },
    {
     "name": "stdout",
     "output_type": "stream",
     "text": [
      "--- Starting trial: run-23\n",
      "{'window_size': 3, 'dropout': 0.3, 'l2': 0.0001, 'optimizer': 'sgd', 'learning_rate': 0.005, 'batch_size': 64}\n"
     ]
    },
    {
     "name": "stderr",
     "output_type": "stream",
     "text": [
      "/home/erincada/.local/lib/python3.10/site-packages/keras/src/layers/core/input_layer.py:26: UserWarning: Argument `input_shape` is deprecated. Use `shape` instead.\n",
      "  warnings.warn(\n"
     ]
    },
    {
     "name": "stdout",
     "output_type": "stream",
     "text": [
      "--- Starting trial: run-24\n",
      "{'window_size': 3, 'dropout': 0.3, 'l2': 0.001, 'optimizer': 'adam', 'learning_rate': 0.001, 'batch_size': 32}\n"
     ]
    },
    {
     "name": "stderr",
     "output_type": "stream",
     "text": [
      "/home/erincada/.local/lib/python3.10/site-packages/keras/src/layers/core/input_layer.py:26: UserWarning: Argument `input_shape` is deprecated. Use `shape` instead.\n",
      "  warnings.warn(\n"
     ]
    },
    {
     "name": "stdout",
     "output_type": "stream",
     "text": [
      "--- Starting trial: run-25\n",
      "{'window_size': 3, 'dropout': 0.3, 'l2': 0.001, 'optimizer': 'adam', 'learning_rate': 0.001, 'batch_size': 64}\n"
     ]
    },
    {
     "name": "stderr",
     "output_type": "stream",
     "text": [
      "/home/erincada/.local/lib/python3.10/site-packages/keras/src/layers/core/input_layer.py:26: UserWarning: Argument `input_shape` is deprecated. Use `shape` instead.\n",
      "  warnings.warn(\n"
     ]
    }
   ],
   "source": [
    "\n",
    "session_num = 0\n",
    "\n",
    "for window_size in HP_WINDOW_SIZE.domain.values:\n",
    "    for dropout_rate in HP_DROPOUT.domain.values:\n",
    "        for l2_reg in HP_L2.domain.values:\n",
    "            for optimizer in HP_OPTIMIZER.domain.values:\n",
    "                for learning_rate in HP_LEARNING_RATE.domain.values:\n",
    "                    for batch_size in HP_BATCH_SIZE.domain.values:\n",
    "                        hparams = {\n",
    "                            HP_WINDOW_SIZE: window_size,\n",
    "                            HP_DROPOUT: dropout_rate,\n",
    "                            HP_L2: l2_reg,\n",
    "                            HP_OPTIMIZER: optimizer,\n",
    "                            HP_LEARNING_RATE: learning_rate,\n",
    "                            HP_BATCH_SIZE: batch_size,\n",
    "                        }\n",
    "                        run_name = f\"run-{session_num}\"\n",
    "                        print(f'--- Starting trial: {run_name}')\n",
    "                        print({h.name: hparams[h] for h in hparams})\n",
    "                        \n",
    "                        run('logs/hparam_tuning/' + run_name, hparams, run_name)\n",
    "                        \n",
    "                        session_num += 1\n",
    "\n",
    "\n",
    "\n",
    "\n"
   ]
  }
 ],
 "metadata": {
  "kernelspec": {
   "display_name": "Python 3",
   "language": "python",
   "name": "python3"
  },
  "language_info": {
   "codemirror_mode": {
    "name": "ipython",
    "version": 3
   },
   "file_extension": ".py",
   "mimetype": "text/x-python",
   "name": "python",
   "nbconvert_exporter": "python",
   "pygments_lexer": "ipython3",
   "version": "3.10.12"
  }
 },
 "nbformat": 4,
 "nbformat_minor": 2
}
